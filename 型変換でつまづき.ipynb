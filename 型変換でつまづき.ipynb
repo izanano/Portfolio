{
  "nbformat": 4,
  "nbformat_minor": 0,
  "metadata": {
    "colab": {
      "provenance": [],
      "authorship_tag": "ABX9TyPuOGcUDzXiG26R9ee+G8pT"
    },
    "kernelspec": {
      "name": "python3",
      "display_name": "Python 3"
    },
    "language_info": {
      "name": "python"
    }
  },
  "cells": [
    {
      "cell_type": "code",
      "execution_count": 1,
      "metadata": {
        "id": "PFgX7-z9OULV"
      },
      "outputs": [],
      "source": [
        "#課題\n",
        "#必要なライブラリ\n",
        "import numpy as np\n",
        "import matplotlib.pyplot as plt\n",
        "import pandas as pd\n",
        "%matplotlib inline"
      ]
    },
    {
      "cell_type": "code",
      "source": [
        "#データを分割、学習用/テスト用\n",
        "from sklearn.model_selection import train_test_split"
      ],
      "metadata": {
        "id": "dSlpAtaRPQlN"
      },
      "execution_count": 2,
      "outputs": []
    },
    {
      "cell_type": "code",
      "source": [
        "#NNによる分類 Pytorch\n",
        "#必要なライブラリ\n",
        "!pip install torchviz | tail -n 1"
      ],
      "metadata": {
        "colab": {
          "base_uri": "https://localhost:8080/"
        },
        "id": "onhm2X5BOwaz",
        "outputId": "e50582a4-bec3-4168-8677-d59c7356e63e"
      },
      "execution_count": 3,
      "outputs": [
        {
          "output_type": "stream",
          "name": "stdout",
          "text": [
            "Successfully installed torchviz-0.0.2\n"
          ]
        }
      ]
    },
    {
      "cell_type": "code",
      "source": [
        "import torch\n",
        "import torch.nn as nn\n",
        "import torch.optim as optim"
      ],
      "metadata": {
        "id": "ynWyvKe6RBIR"
      },
      "execution_count": 4,
      "outputs": []
    },
    {
      "cell_type": "code",
      "source": [
        "sc_df = pd.read_csv('train.tsv', delimiter='\\t', index_col=0)\n",
        "#データセット準備"
      ],
      "metadata": {
        "id": "Z3_wYSxHOit2"
      },
      "execution_count": 5,
      "outputs": []
    },
    {
      "cell_type": "code",
      "source": [
        "#一度APMを使い機械学習をおこなう\n",
        "#列の抽出\n",
        "df_2 = sc_df[['APM','LeagueIndex']]"
      ],
      "metadata": {
        "id": "qKe-6GvvOl_K"
      },
      "execution_count": 6,
      "outputs": []
    },
    {
      "cell_type": "code",
      "source": [
        "#説明と目的を各々変数にいれる\n",
        "df_2_n = df_2[['APM']]#[[]]で2次元にできた。DF形式\n",
        "df_2_t = df_2[['LeagueIndex']]"
      ],
      "metadata": {
        "id": "EmAN9W0LOuKt"
      },
      "execution_count": 7,
      "outputs": []
    },
    {
      "cell_type": "code",
      "source": [
        "#torch用\n",
        "x_train,x_test,y_train,y_test = train_test_split(df_2_n,df_2_t,test_size = 0.3)"
      ],
      "metadata": {
        "id": "3cWOcYP9QOOM"
      },
      "execution_count": 8,
      "outputs": []
    },
    {
      "cell_type": "code",
      "source": [
        "#モデル構築\n",
        "\n",
        "#入力次元数\n",
        "n_input = x_train\n",
        "\n",
        "#出力次元数\n",
        "n_output = 1"
      ],
      "metadata": {
        "id": "6BfPcN-IO7Ov"
      },
      "execution_count": 12,
      "outputs": []
    },
    {
      "cell_type": "code",
      "source": [
        "#モデル定義\n",
        "#1入力2出力1ロジスティック回帰モデル\n",
        "\n",
        "class Net(nn.Module):\n",
        "  def __init__(self,n_input,n_output):\n",
        "    super().__init__()\n",
        "    self.l1 = nn.Linear(n_input,n_output)\n",
        "    self.sigmoid = nn.Sigmoid()\n",
        "\n",
        "    #初期値は1で設定\n",
        "    self.l1.weight.data.fill_(1.0)\n",
        "    self.l1.bias.data.fill_(1.0)\n",
        "\n",
        "    #予測関数の定義\n",
        "    def forward(self,x):\n",
        "      #最初に入力値を線形関数にかける\n",
        "      x1 = self.l1(x)\n",
        "      #計算結果をシグモイド関数にかける\n",
        "      x2 = self.sigmoid(x1)\n",
        "      return x2"
      ],
      "metadata": {
        "id": "--J-hSU7PDFc"
      },
      "execution_count": 13,
      "outputs": []
    },
    {
      "cell_type": "code",
      "source": [
        "#インスタンス生成\n",
        "net = Net(n_input,n_output)#タプル形式でしか処理できないといわれる"
      ],
      "metadata": {
        "id": "6VWw6AsUPIjs"
      },
      "execution_count": null,
      "outputs": []
    },
    {
      "cell_type": "code",
      "source": [
        "#x_train、y_trainをタプルに\n",
        "xtr_tuple = [tuple(x)for x in x_train.T.columns.get_level_values(0).tolist()]#intオブジェクトがない\n",
        "print(xtr_tuple)\n",
        "print(type(xtr_tuple))\n",
        "#DF形式をタプルにするには？？？"
      ],
      "metadata": {
        "id": "p7cUXVmGPEf7"
      },
      "execution_count": null,
      "outputs": []
    },
    {
      "cell_type": "code",
      "source": [
        "#損失関数\n",
        "criterion = nn.BCELoss()\n",
        "\n",
        "#学習率\n",
        "lr = 0.01\n",
        "\n",
        "#最適化関数\n",
        "optimzer = optim.SGD(net.parameters(),lr = lr)"
      ],
      "metadata": {
        "id": "Jx44As1DPKNq"
      },
      "execution_count": null,
      "outputs": []
    },
    {
      "cell_type": "code",
      "source": [
        "# 入力データ x_train と正解データ y_train のテンソル化\n",
        "\n",
        "inputs = torch.tensor(x_train).float()\n",
        "labels = torch.tensor(y_train).float()\n",
        "\n",
        "# 正解データはN行1列の行列に変換する\n",
        "labels1 = labels.view((-1,1))\n",
        "\n",
        "# 検証データのテンソル化\n",
        "inputs_test = torch.tensor(x_test).float()\n",
        "labels_test = torch.tensor(y_test).float()\n",
        "\n",
        "# 検証用の正解データもN行1列の行列に変換する\n",
        "labels1_test = labels_test.view((-1,1))"
      ],
      "metadata": {
        "id": "29T42V22PMiY"
      },
      "execution_count": null,
      "outputs": []
    },
    {
      "cell_type": "code",
      "source": [
        "# 予測計算\n",
        "outputs = net(inputs)\n",
        "\n",
        "# 損失計算\n",
        "loss = criterion(outputs, labels1)\n",
        "\n",
        "# 損失の計算グラフ可視化\n",
        "g = make_dot(loss, params=dict(net.named_parameters()))\n",
        "display(g)"
      ],
      "metadata": {
        "id": "REs1CaAmPOSi"
      },
      "execution_count": null,
      "outputs": []
    }
  ]
}