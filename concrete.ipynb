{
  "nbformat": 4,
  "nbformat_minor": 0,
  "metadata": {
    "colab": {
      "provenance": [],
      "mount_file_id": "1qjtQf2Ifo-Qhbn8C0vYa1lszXWpv2DuO",
      "authorship_tag": "ABX9TyNNX0dBZHdQ2zUUCDtVzK2V"
    },
    "kernelspec": {
      "name": "python3",
      "display_name": "Python 3"
    },
    "language_info": {
      "name": "python"
    }
  },
  "cells": [
    {
      "cell_type": "code",
      "execution_count": 1,
      "metadata": {
        "id": "xOhXYCLQuCi5",
        "colab": {
          "base_uri": "https://localhost:8080/"
        },
        "outputId": "58e8027e-90ca-4b01-bed8-e8a69b756a27"
      },
      "outputs": [
        {
          "output_type": "stream",
          "name": "stdout",
          "text": [
            "Successfully installed japanize_matplotlib-1.1.3\n",
            "Successfully installed torchviz-0.0.2\n"
          ]
        }
      ],
      "source": [
        "#ライブラリのインストール\n",
        "!pip install japanize_matplotlib | tail -n 1\n",
        "!pip install torchviz | tail -n 1"
      ]
    },
    {
      "cell_type": "code",
      "source": [
        "#ライブラリのインポート\n",
        "%matplotlib inline\n",
        "import numpy as np\n",
        "import pandas as pd\n",
        "import matplotlib.pyplot as plt\n",
        "import japanize_matplotlib\n",
        "import torch\n",
        "import torch.nn as nn\n",
        "import torch.optim as optim\n",
        "from torchviz import make_dot"
      ],
      "metadata": {
        "id": "T22ir5GSYXBU"
      },
      "execution_count": 2,
      "outputs": []
    },
    {
      "cell_type": "code",
      "source": [
        "#データの準備\n",
        "data = pd.read_csv('concrete_data.csv')"
      ],
      "metadata": {
        "id": "KtUD_L8SZPZy"
      },
      "execution_count": 3,
      "outputs": []
    },
    {
      "cell_type": "code",
      "source": [
        "#データの中身確認\n",
        "data.head()"
      ],
      "metadata": {
        "colab": {
          "base_uri": "https://localhost:8080/",
          "height": 206
        },
        "id": "GdOfL4cYgpan",
        "outputId": "0c47894a-71af-4deb-9bdb-d105e23a9231"
      },
      "execution_count": 4,
      "outputs": [
        {
          "output_type": "execute_result",
          "data": {
            "text/plain": [
              "   cement  blast_furnace_slag  fly_ash  water  superplasticizer  \\\n",
              "0   540.0                 0.0      0.0  162.0               2.5   \n",
              "1   540.0                 0.0      0.0  162.0               2.5   \n",
              "2   332.5               142.5      0.0  228.0               0.0   \n",
              "3   332.5               142.5      0.0  228.0               0.0   \n",
              "4   198.6               132.4      0.0  192.0               0.0   \n",
              "\n",
              "   coarse_aggregate  fine_aggregate   age  concrete_compressive_strength  \n",
              "0            1040.0            676.0   28                          79.99  \n",
              "1            1055.0            676.0   28                          61.89  \n",
              "2             932.0            594.0  270                          40.27  \n",
              "3             932.0            594.0  365                          41.05  \n",
              "4             978.4            825.5  360                          44.30  "
            ],
            "text/html": [
              "\n",
              "  <div id=\"df-2f0e5faa-1426-46aa-a043-0d8499723d54\" class=\"colab-df-container\">\n",
              "    <div>\n",
              "<style scoped>\n",
              "    .dataframe tbody tr th:only-of-type {\n",
              "        vertical-align: middle;\n",
              "    }\n",
              "\n",
              "    .dataframe tbody tr th {\n",
              "        vertical-align: top;\n",
              "    }\n",
              "\n",
              "    .dataframe thead th {\n",
              "        text-align: right;\n",
              "    }\n",
              "</style>\n",
              "<table border=\"1\" class=\"dataframe\">\n",
              "  <thead>\n",
              "    <tr style=\"text-align: right;\">\n",
              "      <th></th>\n",
              "      <th>cement</th>\n",
              "      <th>blast_furnace_slag</th>\n",
              "      <th>fly_ash</th>\n",
              "      <th>water</th>\n",
              "      <th>superplasticizer</th>\n",
              "      <th>coarse_aggregate</th>\n",
              "      <th>fine_aggregate</th>\n",
              "      <th>age</th>\n",
              "      <th>concrete_compressive_strength</th>\n",
              "    </tr>\n",
              "  </thead>\n",
              "  <tbody>\n",
              "    <tr>\n",
              "      <th>0</th>\n",
              "      <td>540.0</td>\n",
              "      <td>0.0</td>\n",
              "      <td>0.0</td>\n",
              "      <td>162.0</td>\n",
              "      <td>2.5</td>\n",
              "      <td>1040.0</td>\n",
              "      <td>676.0</td>\n",
              "      <td>28</td>\n",
              "      <td>79.99</td>\n",
              "    </tr>\n",
              "    <tr>\n",
              "      <th>1</th>\n",
              "      <td>540.0</td>\n",
              "      <td>0.0</td>\n",
              "      <td>0.0</td>\n",
              "      <td>162.0</td>\n",
              "      <td>2.5</td>\n",
              "      <td>1055.0</td>\n",
              "      <td>676.0</td>\n",
              "      <td>28</td>\n",
              "      <td>61.89</td>\n",
              "    </tr>\n",
              "    <tr>\n",
              "      <th>2</th>\n",
              "      <td>332.5</td>\n",
              "      <td>142.5</td>\n",
              "      <td>0.0</td>\n",
              "      <td>228.0</td>\n",
              "      <td>0.0</td>\n",
              "      <td>932.0</td>\n",
              "      <td>594.0</td>\n",
              "      <td>270</td>\n",
              "      <td>40.27</td>\n",
              "    </tr>\n",
              "    <tr>\n",
              "      <th>3</th>\n",
              "      <td>332.5</td>\n",
              "      <td>142.5</td>\n",
              "      <td>0.0</td>\n",
              "      <td>228.0</td>\n",
              "      <td>0.0</td>\n",
              "      <td>932.0</td>\n",
              "      <td>594.0</td>\n",
              "      <td>365</td>\n",
              "      <td>41.05</td>\n",
              "    </tr>\n",
              "    <tr>\n",
              "      <th>4</th>\n",
              "      <td>198.6</td>\n",
              "      <td>132.4</td>\n",
              "      <td>0.0</td>\n",
              "      <td>192.0</td>\n",
              "      <td>0.0</td>\n",
              "      <td>978.4</td>\n",
              "      <td>825.5</td>\n",
              "      <td>360</td>\n",
              "      <td>44.30</td>\n",
              "    </tr>\n",
              "  </tbody>\n",
              "</table>\n",
              "</div>\n",
              "    <div class=\"colab-df-buttons\">\n",
              "\n",
              "  <div class=\"colab-df-container\">\n",
              "    <button class=\"colab-df-convert\" onclick=\"convertToInteractive('df-2f0e5faa-1426-46aa-a043-0d8499723d54')\"\n",
              "            title=\"Convert this dataframe to an interactive table.\"\n",
              "            style=\"display:none;\">\n",
              "\n",
              "  <svg xmlns=\"http://www.w3.org/2000/svg\" height=\"24px\" viewBox=\"0 -960 960 960\">\n",
              "    <path d=\"M120-120v-720h720v720H120Zm60-500h600v-160H180v160Zm220 220h160v-160H400v160Zm0 220h160v-160H400v160ZM180-400h160v-160H180v160Zm440 0h160v-160H620v160ZM180-180h160v-160H180v160Zm440 0h160v-160H620v160Z\"/>\n",
              "  </svg>\n",
              "    </button>\n",
              "\n",
              "  <style>\n",
              "    .colab-df-container {\n",
              "      display:flex;\n",
              "      gap: 12px;\n",
              "    }\n",
              "\n",
              "    .colab-df-convert {\n",
              "      background-color: #E8F0FE;\n",
              "      border: none;\n",
              "      border-radius: 50%;\n",
              "      cursor: pointer;\n",
              "      display: none;\n",
              "      fill: #1967D2;\n",
              "      height: 32px;\n",
              "      padding: 0 0 0 0;\n",
              "      width: 32px;\n",
              "    }\n",
              "\n",
              "    .colab-df-convert:hover {\n",
              "      background-color: #E2EBFA;\n",
              "      box-shadow: 0px 1px 2px rgba(60, 64, 67, 0.3), 0px 1px 3px 1px rgba(60, 64, 67, 0.15);\n",
              "      fill: #174EA6;\n",
              "    }\n",
              "\n",
              "    .colab-df-buttons div {\n",
              "      margin-bottom: 4px;\n",
              "    }\n",
              "\n",
              "    [theme=dark] .colab-df-convert {\n",
              "      background-color: #3B4455;\n",
              "      fill: #D2E3FC;\n",
              "    }\n",
              "\n",
              "    [theme=dark] .colab-df-convert:hover {\n",
              "      background-color: #434B5C;\n",
              "      box-shadow: 0px 1px 3px 1px rgba(0, 0, 0, 0.15);\n",
              "      filter: drop-shadow(0px 1px 2px rgba(0, 0, 0, 0.3));\n",
              "      fill: #FFFFFF;\n",
              "    }\n",
              "  </style>\n",
              "\n",
              "    <script>\n",
              "      const buttonEl =\n",
              "        document.querySelector('#df-2f0e5faa-1426-46aa-a043-0d8499723d54 button.colab-df-convert');\n",
              "      buttonEl.style.display =\n",
              "        google.colab.kernel.accessAllowed ? 'block' : 'none';\n",
              "\n",
              "      async function convertToInteractive(key) {\n",
              "        const element = document.querySelector('#df-2f0e5faa-1426-46aa-a043-0d8499723d54');\n",
              "        const dataTable =\n",
              "          await google.colab.kernel.invokeFunction('convertToInteractive',\n",
              "                                                    [key], {});\n",
              "        if (!dataTable) return;\n",
              "\n",
              "        const docLinkHtml = 'Like what you see? Visit the ' +\n",
              "          '<a target=\"_blank\" href=https://colab.research.google.com/notebooks/data_table.ipynb>data table notebook</a>'\n",
              "          + ' to learn more about interactive tables.';\n",
              "        element.innerHTML = '';\n",
              "        dataTable['output_type'] = 'display_data';\n",
              "        await google.colab.output.renderOutput(dataTable, element);\n",
              "        const docLink = document.createElement('div');\n",
              "        docLink.innerHTML = docLinkHtml;\n",
              "        element.appendChild(docLink);\n",
              "      }\n",
              "    </script>\n",
              "  </div>\n",
              "\n",
              "\n",
              "<div id=\"df-555a32e0-5e67-4175-ac8e-0a12bbaa30dd\">\n",
              "  <button class=\"colab-df-quickchart\" onclick=\"quickchart('df-555a32e0-5e67-4175-ac8e-0a12bbaa30dd')\"\n",
              "            title=\"Suggest charts\"\n",
              "            style=\"display:none;\">\n",
              "\n",
              "<svg xmlns=\"http://www.w3.org/2000/svg\" height=\"24px\"viewBox=\"0 0 24 24\"\n",
              "     width=\"24px\">\n",
              "    <g>\n",
              "        <path d=\"M19 3H5c-1.1 0-2 .9-2 2v14c0 1.1.9 2 2 2h14c1.1 0 2-.9 2-2V5c0-1.1-.9-2-2-2zM9 17H7v-7h2v7zm4 0h-2V7h2v10zm4 0h-2v-4h2v4z\"/>\n",
              "    </g>\n",
              "</svg>\n",
              "  </button>\n",
              "\n",
              "<style>\n",
              "  .colab-df-quickchart {\n",
              "      --bg-color: #E8F0FE;\n",
              "      --fill-color: #1967D2;\n",
              "      --hover-bg-color: #E2EBFA;\n",
              "      --hover-fill-color: #174EA6;\n",
              "      --disabled-fill-color: #AAA;\n",
              "      --disabled-bg-color: #DDD;\n",
              "  }\n",
              "\n",
              "  [theme=dark] .colab-df-quickchart {\n",
              "      --bg-color: #3B4455;\n",
              "      --fill-color: #D2E3FC;\n",
              "      --hover-bg-color: #434B5C;\n",
              "      --hover-fill-color: #FFFFFF;\n",
              "      --disabled-bg-color: #3B4455;\n",
              "      --disabled-fill-color: #666;\n",
              "  }\n",
              "\n",
              "  .colab-df-quickchart {\n",
              "    background-color: var(--bg-color);\n",
              "    border: none;\n",
              "    border-radius: 50%;\n",
              "    cursor: pointer;\n",
              "    display: none;\n",
              "    fill: var(--fill-color);\n",
              "    height: 32px;\n",
              "    padding: 0;\n",
              "    width: 32px;\n",
              "  }\n",
              "\n",
              "  .colab-df-quickchart:hover {\n",
              "    background-color: var(--hover-bg-color);\n",
              "    box-shadow: 0 1px 2px rgba(60, 64, 67, 0.3), 0 1px 3px 1px rgba(60, 64, 67, 0.15);\n",
              "    fill: var(--button-hover-fill-color);\n",
              "  }\n",
              "\n",
              "  .colab-df-quickchart-complete:disabled,\n",
              "  .colab-df-quickchart-complete:disabled:hover {\n",
              "    background-color: var(--disabled-bg-color);\n",
              "    fill: var(--disabled-fill-color);\n",
              "    box-shadow: none;\n",
              "  }\n",
              "\n",
              "  .colab-df-spinner {\n",
              "    border: 2px solid var(--fill-color);\n",
              "    border-color: transparent;\n",
              "    border-bottom-color: var(--fill-color);\n",
              "    animation:\n",
              "      spin 1s steps(1) infinite;\n",
              "  }\n",
              "\n",
              "  @keyframes spin {\n",
              "    0% {\n",
              "      border-color: transparent;\n",
              "      border-bottom-color: var(--fill-color);\n",
              "      border-left-color: var(--fill-color);\n",
              "    }\n",
              "    20% {\n",
              "      border-color: transparent;\n",
              "      border-left-color: var(--fill-color);\n",
              "      border-top-color: var(--fill-color);\n",
              "    }\n",
              "    30% {\n",
              "      border-color: transparent;\n",
              "      border-left-color: var(--fill-color);\n",
              "      border-top-color: var(--fill-color);\n",
              "      border-right-color: var(--fill-color);\n",
              "    }\n",
              "    40% {\n",
              "      border-color: transparent;\n",
              "      border-right-color: var(--fill-color);\n",
              "      border-top-color: var(--fill-color);\n",
              "    }\n",
              "    60% {\n",
              "      border-color: transparent;\n",
              "      border-right-color: var(--fill-color);\n",
              "    }\n",
              "    80% {\n",
              "      border-color: transparent;\n",
              "      border-right-color: var(--fill-color);\n",
              "      border-bottom-color: var(--fill-color);\n",
              "    }\n",
              "    90% {\n",
              "      border-color: transparent;\n",
              "      border-bottom-color: var(--fill-color);\n",
              "    }\n",
              "  }\n",
              "</style>\n",
              "\n",
              "  <script>\n",
              "    async function quickchart(key) {\n",
              "      const quickchartButtonEl =\n",
              "        document.querySelector('#' + key + ' button');\n",
              "      quickchartButtonEl.disabled = true;  // To prevent multiple clicks.\n",
              "      quickchartButtonEl.classList.add('colab-df-spinner');\n",
              "      try {\n",
              "        const charts = await google.colab.kernel.invokeFunction(\n",
              "            'suggestCharts', [key], {});\n",
              "      } catch (error) {\n",
              "        console.error('Error during call to suggestCharts:', error);\n",
              "      }\n",
              "      quickchartButtonEl.classList.remove('colab-df-spinner');\n",
              "      quickchartButtonEl.classList.add('colab-df-quickchart-complete');\n",
              "    }\n",
              "    (() => {\n",
              "      let quickchartButtonEl =\n",
              "        document.querySelector('#df-555a32e0-5e67-4175-ac8e-0a12bbaa30dd button');\n",
              "      quickchartButtonEl.style.display =\n",
              "        google.colab.kernel.accessAllowed ? 'block' : 'none';\n",
              "    })();\n",
              "  </script>\n",
              "</div>\n",
              "    </div>\n",
              "  </div>\n"
            ]
          },
          "metadata": {},
          "execution_count": 4
        }
      ]
    },
    {
      "cell_type": "code",
      "source": [
        "#要素数を確認\n",
        "print(data.shape)\n",
        "#1031行、9列\n",
        "#print(data.type)エラー発生"
      ],
      "metadata": {
        "id": "G5ACZkUdFNdI",
        "colab": {
          "base_uri": "https://localhost:8080/"
        },
        "outputId": "526083f9-a701-4ad1-e646-ba5ee33eda18"
      },
      "execution_count": 5,
      "outputs": [
        {
          "output_type": "stream",
          "name": "stdout",
          "text": [
            "(1030, 9)\n"
          ]
        }
      ]
    },
    {
      "cell_type": "code",
      "source": [
        "#今回は単回帰\n",
        "#必要な変数を抜き出す(2値)\n",
        "#説明変数cement、目的変数strength\n",
        "x_pre = np.hstack([data.values[1:,0]])#np.hstackで水平方向に配列を作成する\n",
        "y_pre = np.hstack([data.values[1:,8]])\n",
        "name_pre = np.hstack([data.values[0,:]])\n",
        "feature_names = np.array(['cement','blast_furnace_slat','fly_ash','water','superplasticizer','coares_aggregate','fine_aggregate','age','cocrete_compressive_strength'])\n",
        "#x = x_pre[:,feature_names == 'cement']\n",
        "#y = data[:,feateure_names == 'concrete_compressive_strength']"
      ],
      "metadata": {
        "id": "uFuBL_9oizvf"
      },
      "execution_count": 6,
      "outputs": []
    },
    {
      "cell_type": "code",
      "source": [
        "print(x_pre)\n",
        "print(y_pre)\n",
        "print(name_pre)\n",
        "#配列が作成できているか確認\n",
        "print(x_pre.dtype)\n",
        "print(type(x_pre))"
      ],
      "metadata": {
        "colab": {
          "base_uri": "https://localhost:8080/"
        },
        "id": "_iYaclkqoqok",
        "outputId": "495b58b6-65ba-4c3a-c807-1aa1898953da"
      },
      "execution_count": 7,
      "outputs": [
        {
          "output_type": "stream",
          "name": "stdout",
          "text": [
            "[540.  332.5 332.5 ... 148.5 159.1 260.9]\n",
            "[61.89 40.27 41.05 ... 23.7  32.77 32.4 ]\n",
            "[ 540.      0.      0.    162.      2.5  1040.    676.     28.     79.99]\n",
            "float64\n",
            "<class 'numpy.ndarray'>\n"
          ]
        }
      ]
    },
    {
      "cell_type": "code",
      "source": [
        "print(x_pre.shape)\n",
        "#要素数を確認\n",
        "#1030行、0列"
      ],
      "metadata": {
        "colab": {
          "base_uri": "https://localhost:8080/"
        },
        "id": "WsQYakTmwDN3",
        "outputId": "1fbe1a13-2b6d-4d7b-840e-78ccafdd2de4"
      },
      "execution_count": 8,
      "outputs": [
        {
          "output_type": "stream",
          "name": "stdout",
          "text": [
            "(1029,)\n"
          ]
        }
      ]
    },
    {
      "cell_type": "code",
      "source": [
        "#このままでは入力に適さないので形を変換:xデータ作成\n",
        "x = x_pre.reshape(-1,1)\n",
        "#y = y_pre.reshape(-1,1)\n",
        "y = y_pre\n",
        "\n",
        "print(x)\n",
        "print(x.shape)\n",
        "print(x.dtype)"
      ],
      "metadata": {
        "id": "2v1W6zaaSgK8",
        "colab": {
          "base_uri": "https://localhost:8080/"
        },
        "outputId": "4c41e16b-eed2-4e66-b62d-e68b6f24f41e"
      },
      "execution_count": 9,
      "outputs": [
        {
          "output_type": "stream",
          "name": "stdout",
          "text": [
            "[[540. ]\n",
            " [332.5]\n",
            " [332.5]\n",
            " ...\n",
            " [148.5]\n",
            " [159.1]\n",
            " [260.9]]\n",
            "(1029, 1)\n",
            "float64\n"
          ]
        }
      ]
    },
    {
      "cell_type": "code",
      "source": [
        "#x,yをfloatに変換\n",
        "x2 = x.astype(float)\n",
        "y2 = y.astype(float)\n",
        "print(x2.dtype)\n",
        "print(y2.dtype)"
      ],
      "metadata": {
        "colab": {
          "base_uri": "https://localhost:8080/"
        },
        "id": "uN2CA4uG1jOu",
        "outputId": "ca93b34f-bdc0-4da3-8949-534f0a449aef"
      },
      "execution_count": 10,
      "outputs": [
        {
          "output_type": "stream",
          "name": "stdout",
          "text": [
            "float64\n",
            "float64\n"
          ]
        }
      ]
    },
    {
      "cell_type": "code",
      "source": [
        "#散布図の表示\n",
        "plt.scatter(x_pre,y_pre,s=10)\n",
        "#汚いグラフ、処理が適切でない？"
      ],
      "metadata": {
        "id": "0BRRFEOVEoI1",
        "colab": {
          "base_uri": "https://localhost:8080/",
          "height": 447
        },
        "outputId": "c73c3796-9219-43f1-a9e6-abba9fc554bb"
      },
      "execution_count": 11,
      "outputs": [
        {
          "output_type": "execute_result",
          "data": {
            "text/plain": [
              "<matplotlib.collections.PathCollection at 0x7dd35130cc70>"
            ]
          },
          "metadata": {},
          "execution_count": 11
        },
        {
          "output_type": "display_data",
          "data": {
            "text/plain": [
              "<Figure size 640x480 with 1 Axes>"
            ],
            "image/png": "[encoded data removed]"
          },
          "metadata": {}
        }
      ]
    },
    {
      "cell_type": "code",
      "source": [
        "#変数定義\n",
        "#入力次元数定義\n",
        "n_input = x.shape[1]\n",
        "#出力次元数\n",
        "n_output = 1\n",
        "\n",
        "print(f'入力:{n_input} 出力:{n_output}')"
      ],
      "metadata": {
        "colab": {
          "base_uri": "https://localhost:8080/"
        },
        "id": "9-R6dLLwKB2R",
        "outputId": "d3078e88-5f54-471c-8150-b39afe89d865"
      },
      "execution_count": 12,
      "outputs": [
        {
          "output_type": "stream",
          "name": "stdout",
          "text": [
            "入力:1 出力:1\n"
          ]
        }
      ]
    },
    {
      "cell_type": "code",
      "source": [
        "#機械学習モデルのクラスを定義\n",
        "\n",
        "class Net(nn.Module):\n",
        "  def __init__(self,n_input,n_output):\n",
        "    #親クラスnn.Moduleの初期化呼び出し\n",
        "    super().__init__()\n",
        "    #出力層の定義\n",
        "    self.l1 = nn.Linear(n_input,n_output)\n",
        "    #パラメータ調整、初期値を全て1に\n",
        "    nn.init.constant_(self.l1.weight,0.00001)\n",
        "    nn.init.constant_(self.l1.bias,10.0)\n",
        "\n",
        "    #予測関数の定義\n",
        "  def forward(self,x):\n",
        "      x1 = self.l1(x)\n",
        "      return x1"
      ],
      "metadata": {
        "id": "gl2KgV8nL0-u"
      },
      "execution_count": 44,
      "outputs": []
    },
    {
      "cell_type": "code",
      "source": [
        "#インスタンス生成\n",
        "net = Net(n_input,n_output)"
      ],
      "metadata": {
        "id": "NLTPpjFdU5Xi"
      },
      "execution_count": 45,
      "outputs": []
    },
    {
      "cell_type": "code",
      "source": [
        "print(net)"
      ],
      "metadata": {
        "colab": {
          "base_uri": "https://localhost:8080/"
        },
        "id": "-o1bD8sgVmGV",
        "outputId": "77524b37-031c-45a4-ea8b-a71e983d91f8"
      },
      "execution_count": 15,
      "outputs": [
        {
          "output_type": "stream",
          "name": "stdout",
          "text": [
            "Net(\n",
            "  (l1): Linear(in_features=1, out_features=1, bias=True)\n",
            ")\n"
          ]
        }
      ]
    },
    {
      "cell_type": "code",
      "source": [
        "#損失関数と最適化関数の定義\n",
        "\n",
        "#損失関数のインスタンス生成:平均2乗誤差\n",
        "creterion = nn.MSELoss()\n",
        "#学習率\n",
        "lr = 0.0001\n",
        "#最適化関数:勾配降下法\n",
        "optimizer = optim.SGD(net.parameters(),lr = lr)"
      ],
      "metadata": {
        "id": "KyYYuuNVVvYO"
      },
      "execution_count": 46,
      "outputs": []
    },
    {
      "cell_type": "code",
      "source": [
        "#入力値のテンソル変数化\n",
        "inputs = torch.tensor(x).float()\n",
        "labels = torch.tensor(y).float()\n",
        "\n",
        "#次元数確認\n",
        "print(inputs.shape)\n",
        "print(labels.shape)\n",
        "print(inputs.type)\n",
        "print(labels.type)"
      ],
      "metadata": {
        "colab": {
          "base_uri": "https://localhost:8080/"
        },
        "id": "TcWK6t2Fu0P5",
        "outputId": "44dee0b6-366e-4809-8d67-45ef08553993"
      },
      "execution_count": 36,
      "outputs": [
        {
          "output_type": "stream",
          "name": "stdout",
          "text": [
            "torch.Size([1029, 1])\n",
            "torch.Size([1029])\n",
            "<built-in method type of Tensor object at 0x7dd33b57b880>\n",
            "<built-in method type of Tensor object at 0x7dd33b57b920>\n"
          ]
        }
      ]
    },
    {
      "cell_type": "code",
      "source": [
        "#損失計算用にlabels変数を(N,1)次元の行列に変換する\n",
        "#labels1 = labels.view((-1,1))\n",
        "#次元数確認\n",
        "#print(labels1.shape)\n",
        "\n",
        "#既にreshapeしているのでここは不要と判断"
      ],
      "metadata": {
        "id": "N1JrvYhOx7Ra"
      },
      "execution_count": 18,
      "outputs": []
    },
    {
      "cell_type": "code",
      "source": [
        "#予測値計算\n",
        "outputs = net(inputs)"
      ],
      "metadata": {
        "id": "CIuLdzOzVg3p"
      },
      "execution_count": 47,
      "outputs": []
    },
    {
      "cell_type": "code",
      "source": [
        "#損失計算\n",
        "loss = creterion(outputs,labels)\n",
        "#損失取得\n",
        "print(f'{loss.item():.5f}')"
      ],
      "metadata": {
        "id": "2okyi_HDVoMy",
        "colab": {
          "base_uri": "https://localhost:8080/"
        },
        "outputId": "325f78f7-d74b-41e2-cb55-ea622ae7a0d9"
      },
      "execution_count": 48,
      "outputs": [
        {
          "output_type": "stream",
          "name": "stdout",
          "text": [
            "941.39136\n"
          ]
        }
      ]
    },
    {
      "cell_type": "code",
      "source": [
        "g = make_dot(loss,params=dict(net.named_parameters()))\n",
        "display(g)"
      ],
      "metadata": {
        "id": "E0pYIzfbWBub",
        "colab": {
          "base_uri": "https://localhost:8080/",
          "height": 543
        },
        "outputId": "44547940-9716-44a8-b8c0-c1c1c5c727f2"
      },
      "execution_count": 21,
      "outputs": [
        {
          "output_type": "display_data",
          "data": {
            "image/svg+xml": "<?xml version=\"1.0\" encoding=\"UTF-8\" standalone=\"no\"?>\n<!DOCTYPE svg PUBLIC \"-//W3C//DTD SVG 1.1//EN\"\n \"http://www.w3.org/Graphics/SVG/1.1/DTD/svg11.dtd\">\n<!-- Generated by graphviz version 2.43.0 (0)\n -->\n<!-- Title: %3 Pages: 1 -->\n<svg width=\"216pt\" height=\"391pt\"\n viewBox=\"0.00 0.00 216.00 391.00\" xmlns=\"http://www.w3.org/2000/svg\" xmlns:xlink=\"http://www.w3.org/1999/xlink\">\n<g id=\"graph0\" class=\"graph\" transform=\"scale(1 1) rotate(0) translate(4 387)\">\n<title>%3</title>\n<polygon fill=\"white\" stroke=\"transparent\" points=\"-4,4 -4,-387 212,-387 212,4 -4,4\"/>\n<!-- 138346199391168 -->\n<g id=\"node1\" class=\"node\">\n<title>138346199391168</title>\n<polygon fill=\"#caff70\" stroke=\"black\" points=\"130.5,-31 76.5,-31 76.5,0 130.5,0 130.5,-31\"/>\n<text text-anchor=\"middle\" x=\"103.5\" y=\"-7\" font-family=\"monospace\" font-size=\"10.00\"> ()</text>\n</g>\n<!-- 138346200042656 -->\n<g id=\"node2\" class=\"node\">\n<title>138346200042656</title>\n<polygon fill=\"lightgrey\" stroke=\"black\" points=\"160,-86 47,-86 47,-67 160,-67 160,-86\"/>\n<text text-anchor=\"middle\" x=\"103.5\" y=\"-74\" font-family=\"monospace\" font-size=\"10.00\">MseLossBackward0</text>\n</g>\n<!-- 138346200042656&#45;&gt;138346199391168 -->\n<g id=\"edge8\" class=\"edge\">\n<title>138346200042656&#45;&gt;138346199391168</title>\n<path fill=\"none\" stroke=\"black\" d=\"M103.5,-66.79C103.5,-60.07 103.5,-50.4 103.5,-41.34\"/>\n<polygon fill=\"black\" stroke=\"black\" points=\"107,-41.19 103.5,-31.19 100,-41.19 107,-41.19\"/>\n</g>\n<!-- 138346200043568 -->\n<g id=\"node3\" class=\"node\">\n<title>138346200043568</title>\n<polygon fill=\"lightgrey\" stroke=\"black\" points=\"157,-141 50,-141 50,-122 157,-122 157,-141\"/>\n<text text-anchor=\"middle\" x=\"103.5\" y=\"-129\" font-family=\"monospace\" font-size=\"10.00\">ExpandBackward0</text>\n</g>\n<!-- 138346200043568&#45;&gt;138346200042656 -->\n<g id=\"edge1\" class=\"edge\">\n<title>138346200043568&#45;&gt;138346200042656</title>\n<path fill=\"none\" stroke=\"black\" d=\"M103.5,-121.75C103.5,-114.8 103.5,-104.85 103.5,-96.13\"/>\n<polygon fill=\"black\" stroke=\"black\" points=\"107,-96.09 103.5,-86.09 100,-96.09 107,-96.09\"/>\n</g>\n<!-- 138346200044288 -->\n<g id=\"node4\" class=\"node\">\n<title>138346200044288</title>\n<polygon fill=\"lightgrey\" stroke=\"black\" points=\"154,-196 53,-196 53,-177 154,-177 154,-196\"/>\n<text text-anchor=\"middle\" x=\"103.5\" y=\"-184\" font-family=\"monospace\" font-size=\"10.00\">AddmmBackward0</text>\n</g>\n<!-- 138346200044288&#45;&gt;138346200043568 -->\n<g id=\"edge2\" class=\"edge\">\n<title>138346200044288&#45;&gt;138346200043568</title>\n<path fill=\"none\" stroke=\"black\" d=\"M103.5,-176.75C103.5,-169.8 103.5,-159.85 103.5,-151.13\"/>\n<polygon fill=\"black\" stroke=\"black\" points=\"107,-151.09 103.5,-141.09 100,-151.09 107,-151.09\"/>\n</g>\n<!-- 138346200044384 -->\n<g id=\"node5\" class=\"node\">\n<title>138346200044384</title>\n<polygon fill=\"lightgrey\" stroke=\"black\" points=\"101,-251 0,-251 0,-232 101,-232 101,-251\"/>\n<text text-anchor=\"middle\" x=\"50.5\" y=\"-239\" font-family=\"monospace\" font-size=\"10.00\">AccumulateGrad</text>\n</g>\n<!-- 138346200044384&#45;&gt;138346200044288 -->\n<g id=\"edge3\" class=\"edge\">\n<title>138346200044384&#45;&gt;138346200044288</title>\n<path fill=\"none\" stroke=\"black\" d=\"M59.25,-231.75C66.97,-224.03 78.4,-212.6 87.72,-203.28\"/>\n<polygon fill=\"black\" stroke=\"black\" points=\"90.31,-205.64 94.91,-196.09 85.36,-200.69 90.31,-205.64\"/>\n</g>\n<!-- 138346556691760 -->\n<g id=\"node6\" class=\"node\">\n<title>138346556691760</title>\n<polygon fill=\"lightblue\" stroke=\"black\" points=\"80,-317 21,-317 21,-287 80,-287 80,-317\"/>\n<text text-anchor=\"middle\" x=\"50.5\" y=\"-305\" font-family=\"monospace\" font-size=\"10.00\">l1.bias</text>\n<text text-anchor=\"middle\" x=\"50.5\" y=\"-294\" font-family=\"monospace\" font-size=\"10.00\"> (1)</text>\n</g>\n<!-- 138346556691760&#45;&gt;138346200044384 -->\n<g id=\"edge4\" class=\"edge\">\n<title>138346556691760&#45;&gt;138346200044384</title>\n<path fill=\"none\" stroke=\"black\" d=\"M50.5,-286.84C50.5,-279.21 50.5,-269.7 50.5,-261.45\"/>\n<polygon fill=\"black\" stroke=\"black\" points=\"54,-261.27 50.5,-251.27 47,-261.27 54,-261.27\"/>\n</g>\n<!-- 138346200042272 -->\n<g id=\"node7\" class=\"node\">\n<title>138346200042272</title>\n<polygon fill=\"lightgrey\" stroke=\"black\" points=\"196,-251 119,-251 119,-232 196,-232 196,-251\"/>\n<text text-anchor=\"middle\" x=\"157.5\" y=\"-239\" font-family=\"monospace\" font-size=\"10.00\">TBackward0</text>\n</g>\n<!-- 138346200042272&#45;&gt;138346200044288 -->\n<g id=\"edge5\" class=\"edge\">\n<title>138346200042272&#45;&gt;138346200044288</title>\n<path fill=\"none\" stroke=\"black\" d=\"M148.58,-231.75C140.72,-224.03 129.07,-212.6 119.58,-203.28\"/>\n<polygon fill=\"black\" stroke=\"black\" points=\"121.84,-200.6 112.25,-196.09 116.94,-205.59 121.84,-200.6\"/>\n</g>\n<!-- 138346200043664 -->\n<g id=\"node8\" class=\"node\">\n<title>138346200043664</title>\n<polygon fill=\"lightgrey\" stroke=\"black\" points=\"208,-311.5 107,-311.5 107,-292.5 208,-292.5 208,-311.5\"/>\n<text text-anchor=\"middle\" x=\"157.5\" y=\"-299.5\" font-family=\"monospace\" font-size=\"10.00\">AccumulateGrad</text>\n</g>\n<!-- 138346200043664&#45;&gt;138346200042272 -->\n<g id=\"edge6\" class=\"edge\">\n<title>138346200043664&#45;&gt;138346200042272</title>\n<path fill=\"none\" stroke=\"black\" d=\"M157.5,-292.37C157.5,-284.25 157.5,-271.81 157.5,-261.39\"/>\n<polygon fill=\"black\" stroke=\"black\" points=\"161,-261.17 157.5,-251.17 154,-261.17 161,-261.17\"/>\n</g>\n<!-- 138346556509616 -->\n<g id=\"node9\" class=\"node\">\n<title>138346556509616</title>\n<polygon fill=\"lightblue\" stroke=\"black\" points=\"193,-383 122,-383 122,-353 193,-353 193,-383\"/>\n<text text-anchor=\"middle\" x=\"157.5\" y=\"-371\" font-family=\"monospace\" font-size=\"10.00\">l1.weight</text>\n<text text-anchor=\"middle\" x=\"157.5\" y=\"-360\" font-family=\"monospace\" font-size=\"10.00\"> (1, 1)</text>\n</g>\n<!-- 138346556509616&#45;&gt;138346200043664 -->\n<g id=\"edge7\" class=\"edge\">\n<title>138346556509616&#45;&gt;138346200043664</title>\n<path fill=\"none\" stroke=\"black\" d=\"M157.5,-352.8C157.5,-343.7 157.5,-331.79 157.5,-321.9\"/>\n<polygon fill=\"black\" stroke=\"black\" points=\"161,-321.84 157.5,-311.84 154,-321.84 161,-321.84\"/>\n</g>\n</g>\n</svg>\n",
            "text/plain": [
              "<graphviz.graphs.Digraph at 0x7dd33c1c0b80>"
            ]
          },
          "metadata": {}
        }
      ]
    },
    {
      "cell_type": "code",
      "source": [
        "#勾配計算\n",
        "loss.backward()\n",
        "print(net.l1.weight.grad)\n",
        "print(net.l1.bias.grad)"
      ],
      "metadata": {
        "colab": {
          "base_uri": "https://localhost:8080/"
        },
        "id": "hSFpfXJt8J_z",
        "outputId": "7a229abc-9ebf-492a-89b1-ac2a6ae466f6"
      },
      "execution_count": 49,
      "outputs": [
        {
          "output_type": "stream",
          "name": "stdout",
          "text": [
            "tensor([[-14479.4561]])\n",
            "tensor([-51.5444])\n"
          ]
        }
      ]
    },
    {
      "cell_type": "code",
      "source": [
        "#パラメータ修正\n",
        "optimizer.step()\n",
        "print(net.l1.weight)\n",
        "print(net.l1.bias)"
      ],
      "metadata": {
        "colab": {
          "base_uri": "https://localhost:8080/"
        },
        "id": "KjAZLQcM9Bgx",
        "outputId": "391aa479-95f0-4abf-e8d0-4145853b9bdd"
      },
      "execution_count": 50,
      "outputs": [
        {
          "output_type": "stream",
          "name": "stdout",
          "text": [
            "Parameter containing:\n",
            "tensor([[1.4480]], requires_grad=True)\n",
            "Parameter containing:\n",
            "tensor([10.0052], requires_grad=True)\n"
          ]
        }
      ]
    },
    {
      "cell_type": "code",
      "source": [
        "#勾配の初期化\n",
        "optimizer.zero_grad()\n",
        "#確認\n",
        "print(net.l1.weight.grad)\n",
        "print(net.l1.bias.grad)"
      ],
      "metadata": {
        "colab": {
          "base_uri": "https://localhost:8080/"
        },
        "id": "ftYbejW-9rkA",
        "outputId": "2021ae65-6068-429c-f2fc-d883c1086a06"
      },
      "execution_count": 51,
      "outputs": [
        {
          "output_type": "stream",
          "name": "stdout",
          "text": [
            "None\n",
            "None\n"
          ]
        }
      ]
    },
    {
      "cell_type": "code",
      "source": [
        "torch.cuda.is_available()"
      ],
      "metadata": {
        "colab": {
          "base_uri": "https://localhost:8080/"
        },
        "id": "c-n5Ox7_jqd7",
        "outputId": "fe1e5a6c-fe56-4366-dad7-e4864c337e00"
      },
      "execution_count": 25,
      "outputs": [
        {
          "output_type": "execute_result",
          "data": {
            "text/plain": [
              "False"
            ]
          },
          "metadata": {},
          "execution_count": 25
        }
      ]
    },
    {
      "cell_type": "code",
      "source": [
        "#繰り返し計算\n",
        "\n",
        "#学習率\n",
        "lr = 0.00001\n",
        "\n",
        "#インスタンス生成（パラメータ初期化)\n",
        "net = Net(n_input,n_output)\n",
        "\n",
        "#損失関数\n",
        "criterion = nn.MSELoss()\n",
        "\n",
        "#最適化関数\n",
        "optimizer = optim.SGD(net.parameters(),lr=lr)\n",
        "\n",
        "#繰り返し回数\n",
        "num_epochs = 30000\n",
        "\n",
        "#評価結果記録（損失のみ）\n",
        "history = np.zeros((0,2))\n",
        "\n",
        "#device = \"cuda:0\" if torch.cuda.is_avalable() else \"cpu\"\n",
        "\n",
        "#繰り返し計算ループ\n",
        "\n",
        "for epoch in range(num_epochs):\n",
        "  #勾配初期化\n",
        "  optimizer.zero_grad()\n",
        "  #予備計算\n",
        "  outputs = net(inputs)\n",
        "  #損失計算\n",
        "  loss = criterion(outputs,labels)\n",
        "  #勾配計算\n",
        "  loss.backward()\n",
        "  #パラメータ修正\n",
        "  optimizer.step()\n",
        "  if (epoch % 100 == 0):\n",
        "    history = np.vstack((history,np.array([epoch,loss.item()])))\n",
        "    print(\"loss:\", loss.item())\n",
        "\n",
        "\n",
        "\n"
      ],
      "metadata": {
        "id": "vfz19Zr-B4hM",
        "colab": {
          "base_uri": "https://localhost:8080/"
        },
        "outputId": "cd884fa2-5e8e-421e-b817-0af3a17e4b06"
      },
      "execution_count": 52,
      "outputs": [
        {
          "output_type": "stream",
          "name": "stdout",
          "text": [
            "loss: 941.391357421875\n",
            "loss: 357.4871826171875\n",
            "loss: 357.4485168457031\n",
            "loss: 357.409912109375\n",
            "loss: 357.3713073730469\n",
            "loss: 357.3326721191406\n",
            "loss: 357.2940979003906\n",
            "loss: 357.2555236816406\n",
            "loss: 357.2169189453125\n",
            "loss: 357.1783752441406\n",
            "loss: 357.13983154296875\n",
            "loss: 357.10125732421875\n",
            "loss: 357.0627136230469\n",
            "loss: 357.024169921875\n",
            "loss: 356.98565673828125\n",
            "loss: 356.9471740722656\n",
            "loss: 356.90869140625\n",
            "loss: 356.87017822265625\n",
            "loss: 356.8316955566406\n",
            "loss: 356.793212890625\n",
            "loss: 356.7547607421875\n",
            "loss: 356.71630859375\n",
            "loss: 356.6778564453125\n",
            "loss: 356.6394348144531\n",
            "loss: 356.6009826660156\n",
            "loss: 356.5625915527344\n",
            "loss: 356.5242004394531\n",
            "loss: 356.4857177734375\n",
            "loss: 356.4473876953125\n",
            "loss: 356.4090576171875\n",
            "loss: 356.37066650390625\n",
            "loss: 356.332275390625\n",
            "loss: 356.2939147949219\n",
            "loss: 356.255615234375\n",
            "loss: 356.2172546386719\n",
            "loss: 356.17889404296875\n",
            "loss: 356.1405944824219\n",
            "loss: 356.102294921875\n",
            "loss: 356.0639953613281\n",
            "loss: 356.0257568359375\n",
            "loss: 355.9873962402344\n",
            "loss: 355.9491882324219\n",
            "loss: 355.910888671875\n",
            "loss: 355.8726501464844\n",
            "loss: 355.8344421386719\n",
            "loss: 355.79620361328125\n",
            "loss: 355.75799560546875\n",
            "loss: 355.7197570800781\n",
            "loss: 355.68157958984375\n",
            "loss: 355.6433410644531\n",
            "loss: 355.6051940917969\n",
            "loss: 355.5669860839844\n",
            "loss: 355.5288391113281\n",
            "loss: 355.4906921386719\n",
            "loss: 355.4525451660156\n",
            "loss: 355.4144287109375\n",
            "loss: 355.376708984375\n",
            "loss: 355.3391418457031\n",
            "loss: 355.3016357421875\n",
            "loss: 355.26409912109375\n",
            "loss: 355.2265930175781\n",
            "loss: 355.1891174316406\n",
            "loss: 355.151611328125\n",
            "loss: 355.1141357421875\n",
            "loss: 355.07666015625\n",
            "loss: 355.0391845703125\n",
            "loss: 355.001708984375\n",
            "loss: 354.9643249511719\n",
            "loss: 354.9268798828125\n",
            "loss: 354.8894348144531\n",
            "loss: 354.8520202636719\n",
            "loss: 354.81463623046875\n",
            "loss: 354.7772216796875\n",
            "loss: 354.7398681640625\n",
            "loss: 354.70245361328125\n",
            "loss: 354.66510009765625\n",
            "loss: 354.6277160644531\n",
            "loss: 354.5903625488281\n",
            "loss: 354.5530090332031\n",
            "loss: 354.51568603515625\n",
            "loss: 354.4783630371094\n",
            "loss: 354.4410400390625\n",
            "loss: 354.40374755859375\n",
            "loss: 354.366455078125\n",
            "loss: 354.32916259765625\n",
            "loss: 354.2919006347656\n",
            "loss: 354.25457763671875\n",
            "loss: 354.21734619140625\n",
            "loss: 354.1800842285156\n",
            "loss: 354.1428527832031\n",
            "loss: 354.10565185546875\n",
            "loss: 354.068359375\n",
            "loss: 354.0311279296875\n",
            "loss: 353.993896484375\n",
            "loss: 353.95672607421875\n",
            "loss: 353.9195251464844\n",
            "loss: 353.8823547363281\n",
            "loss: 353.8451843261719\n",
            "loss: 353.8080139160156\n",
            "loss: 353.7708435058594\n",
            "loss: 353.7337646484375\n",
            "loss: 353.6966247558594\n",
            "loss: 353.6594543457031\n",
            "loss: 353.62237548828125\n",
            "loss: 353.5852355957031\n",
            "loss: 353.5481262207031\n",
            "loss: 353.51104736328125\n",
            "loss: 353.47393798828125\n",
            "loss: 353.4368896484375\n",
            "loss: 353.3998107910156\n",
            "loss: 353.36279296875\n",
            "loss: 353.3257141113281\n",
            "loss: 353.2886962890625\n",
            "loss: 353.25164794921875\n",
            "loss: 353.214599609375\n",
            "loss: 353.1776123046875\n",
            "loss: 353.140625\n",
            "loss: 353.1036376953125\n",
            "loss: 353.0666809082031\n",
            "loss: 353.0296936035156\n",
            "loss: 352.9927978515625\n",
            "loss: 352.9563293457031\n",
            "loss: 352.9200134277344\n",
            "loss: 352.8836669921875\n",
            "loss: 352.8473205566406\n",
            "loss: 352.81097412109375\n",
            "loss: 352.7746276855469\n",
            "loss: 352.73828125\n",
            "loss: 352.70196533203125\n",
            "loss: 352.6656494140625\n",
            "loss: 352.6293640136719\n",
            "loss: 352.59307861328125\n",
            "loss: 352.5567626953125\n",
            "loss: 352.5205078125\n",
            "loss: 352.4842834472656\n",
            "loss: 352.447998046875\n",
            "loss: 352.4117431640625\n",
            "loss: 352.3755187988281\n",
            "loss: 352.3392639160156\n",
            "loss: 352.30303955078125\n",
            "loss: 352.266845703125\n",
            "loss: 352.2306213378906\n",
            "loss: 352.1944580078125\n",
            "loss: 352.158203125\n",
            "loss: 352.1220703125\n",
            "loss: 352.08587646484375\n",
            "loss: 352.04974365234375\n",
            "loss: 352.0135803222656\n",
            "loss: 351.97747802734375\n",
            "loss: 351.9413146972656\n",
            "loss: 351.9051818847656\n",
            "loss: 351.86907958984375\n",
            "loss: 351.8329772949219\n",
            "loss: 351.7968444824219\n",
            "loss: 351.7607421875\n",
            "loss: 351.72467041015625\n",
            "loss: 351.6886291503906\n",
            "loss: 351.65252685546875\n",
            "loss: 351.6164855957031\n",
            "loss: 351.5804443359375\n",
            "loss: 351.5444030761719\n",
            "loss: 351.50836181640625\n",
            "loss: 351.4723205566406\n",
            "loss: 351.43634033203125\n",
            "loss: 351.4002990722656\n",
            "loss: 351.36431884765625\n",
            "loss: 351.3283386230469\n",
            "loss: 351.2923889160156\n",
            "loss: 351.25640869140625\n",
            "loss: 351.2204284667969\n",
            "loss: 351.1844787597656\n",
            "loss: 351.1485595703125\n",
            "loss: 351.1126403808594\n",
            "loss: 351.0766906738281\n",
            "loss: 351.0407409667969\n",
            "loss: 351.0048522949219\n",
            "loss: 350.9689636230469\n",
            "loss: 350.9330749511719\n",
            "loss: 350.897216796875\n",
            "loss: 350.861328125\n",
            "loss: 350.8254699707031\n",
            "loss: 350.7895812988281\n",
            "loss: 350.7537841796875\n",
            "loss: 350.7178955078125\n",
            "loss: 350.6820983886719\n",
            "loss: 350.646240234375\n",
            "loss: 350.6106872558594\n",
            "loss: 350.57550048828125\n",
            "loss: 350.54022216796875\n",
            "loss: 350.50506591796875\n",
            "loss: 350.4698181152344\n",
            "loss: 350.4346008300781\n",
            "loss: 350.3994445800781\n",
            "loss: 350.3642883300781\n",
            "loss: 350.3290710449219\n",
            "loss: 350.2939147949219\n",
            "loss: 350.2587585449219\n",
            "loss: 350.2236022949219\n",
            "loss: 350.1884765625\n",
            "loss: 350.1533508300781\n",
            "loss: 350.1181945800781\n",
            "loss: 350.08306884765625\n",
            "loss: 350.0479431152344\n",
            "loss: 350.01287841796875\n",
            "loss: 349.9778137207031\n",
            "loss: 349.9427185058594\n",
            "loss: 349.9076232910156\n",
            "loss: 349.8725280761719\n",
            "loss: 349.8375244140625\n",
            "loss: 349.802490234375\n",
            "loss: 349.7674255371094\n",
            "loss: 349.7323913574219\n",
            "loss: 349.6973571777344\n",
            "loss: 349.6623229980469\n",
            "loss: 349.6273193359375\n",
            "loss: 349.59234619140625\n",
            "loss: 349.5573425292969\n",
            "loss: 349.5223693847656\n",
            "loss: 349.48736572265625\n",
            "loss: 349.452392578125\n",
            "loss: 349.41748046875\n",
            "loss: 349.382568359375\n",
            "loss: 349.34759521484375\n",
            "loss: 349.31268310546875\n",
            "loss: 349.2777404785156\n",
            "loss: 349.2427673339844\n",
            "loss: 349.2079162597656\n",
            "loss: 349.17303466796875\n",
            "loss: 349.13812255859375\n",
            "loss: 349.103271484375\n",
            "loss: 349.068359375\n",
            "loss: 349.0335388183594\n",
            "loss: 348.9986572265625\n",
            "loss: 348.96380615234375\n",
            "loss: 348.928955078125\n",
            "loss: 348.8941650390625\n",
            "loss: 348.85931396484375\n",
            "loss: 348.82452392578125\n",
            "loss: 348.7897033691406\n",
            "loss: 348.75494384765625\n",
            "loss: 348.7201232910156\n",
            "loss: 348.6853332519531\n",
            "loss: 348.65057373046875\n",
            "loss: 348.6158142089844\n",
            "loss: 348.58111572265625\n",
            "loss: 348.5462951660156\n",
            "loss: 348.5115966796875\n",
            "loss: 348.4768981933594\n",
            "loss: 348.4421081542969\n",
            "loss: 348.40740966796875\n",
            "loss: 348.3727111816406\n",
            "loss: 348.3380432128906\n",
            "loss: 348.3033447265625\n",
            "loss: 348.26910400390625\n",
            "loss: 348.2349853515625\n",
            "loss: 348.200927734375\n",
            "loss: 348.16680908203125\n",
            "loss: 348.13275146484375\n",
            "loss: 348.0986633300781\n",
            "loss: 348.0645751953125\n",
            "loss: 348.030517578125\n",
            "loss: 347.9964904785156\n",
            "loss: 347.9624328613281\n",
            "loss: 347.92840576171875\n",
            "loss: 347.8943786621094\n",
            "loss: 347.8603210449219\n",
            "loss: 347.8263244628906\n",
            "loss: 347.7923278808594\n",
            "loss: 347.75836181640625\n",
            "loss: 347.724365234375\n",
            "loss: 347.6903381347656\n",
            "loss: 347.6563720703125\n",
            "loss: 347.6224365234375\n",
            "loss: 347.5884704589844\n",
            "loss: 347.5545349121094\n",
            "loss: 347.52056884765625\n",
            "loss: 347.4866638183594\n",
            "loss: 347.4527587890625\n",
            "loss: 347.4188537597656\n",
            "loss: 347.3848876953125\n",
            "loss: 347.35101318359375\n",
            "loss: 347.3171691894531\n",
            "loss: 347.2832336425781\n",
            "loss: 347.2493591308594\n",
            "loss: 347.2155456542969\n",
            "loss: 347.18170166015625\n",
            "loss: 347.1478271484375\n",
            "loss: 347.11395263671875\n",
            "loss: 347.0801086425781\n",
            "loss: 347.04632568359375\n",
            "loss: 347.01251220703125\n",
            "loss: 346.9787292480469\n",
            "loss: 346.9449157714844\n",
            "loss: 346.9111022949219\n",
            "loss: 346.8773193359375\n",
            "loss: 346.8435974121094\n",
            "loss: 346.8097839355469\n",
            "loss: 346.77606201171875\n",
            "loss: 346.7423095703125\n",
            "loss: 346.70855712890625\n"
          ]
        }
      ]
    },
    {
      "cell_type": "code",
      "source": [
        "net.l1.weight#確認"
      ],
      "metadata": {
        "id": "g-cxu86TbLuO"
      },
      "execution_count": null,
      "outputs": []
    },
    {
      "cell_type": "code",
      "source": [
        "net.l1.bias#確認"
      ],
      "metadata": {
        "id": "0dR3N741lcfM"
      },
      "execution_count": null,
      "outputs": []
    },
    {
      "cell_type": "code",
      "source": [
        "# 損失初期値と最終値\n",
        "\n",
        "print(f'損失初期値: {history[0,1]:.5f}')\n",
        "print(f'損失最終値: {history[-1,1]:.5f}')"
      ],
      "metadata": {
        "id": "kOV5OeEukinF",
        "colab": {
          "base_uri": "https://localhost:8080/"
        },
        "outputId": "9ca4d86a-fcdb-4e41-c2b8-138c3a0c9156"
      },
      "execution_count": 53,
      "outputs": [
        {
          "output_type": "stream",
          "name": "stdout",
          "text": [
            "損失初期値: 941.39136\n",
            "損失最終値: 346.70856\n"
          ]
        }
      ]
    },
    {
      "cell_type": "code",
      "source": [
        "\n",
        "# 学習曲線の表示 (損失)\n",
        "# 最初の1つを除く\n",
        "\n",
        "plt.plot(history[1:,0], history[1:,1], 'b')\n",
        "plt.xlabel('繰り返し回数')\n",
        "plt.ylabel('損失')\n",
        "plt.title('学習曲線(損失)')\n",
        "plt.show()\n",
        "\n",
        "#いくらやってもすとーーんとしか下がらない\n",
        "#方法を変える必要あり。だけどこれはここまでとする"
      ],
      "metadata": {
        "id": "ckPJhJSzkdrC",
        "colab": {
          "base_uri": "https://localhost:8080/",
          "height": 470
        },
        "outputId": "b38aabdf-a80e-462b-c171-c0779df4e846"
      },
      "execution_count": 54,
      "outputs": [
        {
          "output_type": "display_data",
          "data": {
            "text/plain": [
              "<Figure size 640x480 with 1 Axes>"
            ],
            "image/png": "[encoded data removed]"
          },
          "metadata": {}
        }
      ]
    },
    {
      "cell_type": "code",
      "source": [
        "# 回帰直線の算出\n",
        "\n",
        "# xの最小値、最大値\n",
        "xse = np.array((x.min(), x.max())).reshape(-1,1)\n",
        "Xse = torch.tensor(xse).float()\n",
        "\n",
        "with torch.no_grad():\n",
        "  Yse = net(Xse)\n",
        "\n",
        "print(Yse.numpy())"
      ],
      "metadata": {
        "colab": {
          "base_uri": "https://localhost:8080/"
        },
        "id": "jIaCtd7lkZr1",
        "outputId": "4ae2f8d1-e7d6-4f75-8110-39e05a22063e"
      },
      "execution_count": 55,
      "outputs": [
        {
          "output_type": "stream",
          "name": "stdout",
          "text": [
            "[[19.455194]\n",
            " [52.310562]]\n"
          ]
        }
      ]
    },
    {
      "cell_type": "code",
      "source": [
        "# 散布図と回帰直線の描画\n",
        "\n",
        "plt.scatter(x, y, s=10, c='b')\n",
        "plt.xlabel('cement')\n",
        "plt.ylabel('storength')\n",
        "plt.plot(Xse.data, Yse.data, c='k')\n",
        "plt.title('散布図と回帰直線')\n",
        "plt.show()"
      ],
      "metadata": {
        "id": "KLKDOKhQXTSo",
        "colab": {
          "base_uri": "https://localhost:8080/",
          "height": 469
        },
        "outputId": "6a1ac72e-5f13-4c39-f997-26272216f2a0"
      },
      "execution_count": 56,
      "outputs": [
        {
          "output_type": "display_data",
          "data": {
            "text/plain": [
              "<Figure size 640x480 with 1 Axes>"
            ],
            "image/png": "[encoded data removed]"
          },
          "metadata": {}
        }
      ]
    }
  ]
}