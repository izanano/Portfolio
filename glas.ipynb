{
  "nbformat": 4,
  "nbformat_minor": 0,
  "metadata": {
    "colab": {
      "provenance": [],
      "authorship_tag": "ABX9TyO1j/yANdG/YoqNr4IGKdhe",
      "include_colab_link": true
    },
    "kernelspec": {
      "name": "python3",
      "display_name": "Python 3"
    },
    "language_info": {
      "name": "python"
    }
  },
  "cells": [
    {
      "cell_type": "markdown",
      "metadata": {
        "id": "view-in-github",
        "colab_type": "text"
      },
      "source": [
        "<a href=\"https://colab.research.google.com/github/izanano/Portfolio/blob/main/glas.ipynb\" target=\"_parent\"><img src=\"https://colab.research.google.com/assets/colab-badge.svg\" alt=\"Open In Colab\"/></a>"
      ]
    },
    {
      "cell_type": "code",
      "execution_count": null,
      "metadata": {
        "id": "ty7HOKtoOrgQ"
      },
      "outputs": [],
      "source": [
        "#とりあえずの基本セット\n",
        "import numpy as np\n",
        "import matplotlib.pyplot as plt\n",
        "import pandas as pd\n",
        "%matplotlib inline"
      ]
    },
    {
      "cell_type": "code",
      "source": [
        "#分類と評価\n",
        "from sklearn.model_selection import train_test_split\n",
        "from sklearn.metrics import accuracy_score"
      ],
      "metadata": {
        "id": "96NGKAK4Pj2x"
      },
      "execution_count": null,
      "outputs": []
    },
    {
      "cell_type": "code",
      "source": [
        "!pip install LightGBM"
      ],
      "metadata": {
        "id": "kl6fQivHPj7g"
      },
      "execution_count": null,
      "outputs": []
    },
    {
      "cell_type": "code",
      "source": [
        "from lightgbm import LGBMClassifier"
      ],
      "metadata": {
        "id": "XqaT6NBZPkCH"
      },
      "execution_count": null,
      "outputs": []
    },
    {
      "cell_type": "code",
      "source": [
        "#学習器\n",
        "from sklearn.svm import SVC\n",
        "from lightgbm import LGBMClassifier\n",
        "from sklearn.ensemble import RandomForestClassifier"
      ],
      "metadata": {
        "id": "NyDxCbDEPkGp"
      },
      "execution_count": null,
      "outputs": []
    },
    {
      "cell_type": "code",
      "source": [
        "#学習用データを読み込み\n",
        "df = pd.read_csv('train.tsv',delimiter = '\\t',index_col = 0)\n",
        "#df = pd.read_csv('glass.csv')"
      ],
      "metadata": {
        "id": "3uHfIckTPkKK"
      },
      "execution_count": null,
      "outputs": []
    },
    {
      "cell_type": "code",
      "source": [
        "#テスト用データと提出用サンプルの読み込み\n",
        "test = pd.read_csv('test.tsv',delimiter = '\\t',index_col = 0)\n",
        "sample = pd.read_csv('sample_submit.csv',header = None)"
      ],
      "metadata": {
        "id": "sFMAM7FaQgiM"
      },
      "execution_count": null,
      "outputs": []
    },
    {
      "cell_type": "code",
      "source": [
        "test"
      ],
      "metadata": {
        "id": "1AJVIOfdQjSh"
      },
      "execution_count": null,
      "outputs": []
    },
    {
      "cell_type": "code",
      "source": [
        "sample"
      ],
      "metadata": {
        "id": "yAOCEEY9QjWq"
      },
      "execution_count": null,
      "outputs": []
    },
    {
      "cell_type": "code",
      "source": [
        "df"
      ],
      "metadata": {
        "id": "uyen1EKjQjd_"
      },
      "execution_count": null,
      "outputs": []
    },
    {
      "cell_type": "code",
      "source": [
        "df_focus = df.iloc[:,1:-1]\n",
        "df_focus.head()"
      ],
      "metadata": {
        "id": "z2cazpZxSPef"
      },
      "execution_count": null,
      "outputs": []
    },
    {
      "cell_type": "code",
      "source": [
        "#PCAで次元削減をおこなう\n",
        "from sklearn.decomposition import PCA\n",
        "n_components = 8\n",
        "pca_element = PCA(n_components=n_components)"
      ],
      "metadata": {
        "id": "Ymmnnu_8PkN7"
      },
      "execution_count": null,
      "outputs": []
    },
    {
      "cell_type": "code",
      "source": [
        "#PCA使用\n",
        "focus_Transformed = pca_element.fit_transform(df_focus)\n",
        "pca_element.explained_variance_ratio_\n",
        "#print(type(x))"
      ],
      "metadata": {
        "id": "0ZzQcRIEPkdt"
      },
      "execution_count": null,
      "outputs": []
    },
    {
      "cell_type": "code",
      "source": [
        "#PCA後のDF化\n",
        "df_pca = pd.DataFrame(data=focus_Transformed, columns=[\"PCA%i\" %i for i in range(n_components)])\n",
        "df_subtotal = pd.concat([df[\"RI\"].reset_index(drop=True), df_pca], axis=1)"
      ],
      "metadata": {
        "id": "mNTg1dhTQDDg"
      },
      "execution_count": null,
      "outputs": []
    },
    {
      "cell_type": "code",
      "source": [
        "#データの分割\n",
        "X_train, X_val, y_train, y_val = train_test_split(df_subtotal, df[\"Type\"], test_size=0.2)"
      ],
      "metadata": {
        "id": "tYidcL9qQDg7"
      },
      "execution_count": null,
      "outputs": []
    },
    {
      "cell_type": "code",
      "source": [
        "#学習:PCA済みデータ\n",
        "clf_rf = RandomForestClassifier()\n",
        "clf_rf.fit(X_train, y_train)"
      ],
      "metadata": {
        "id": "-pEtIrE3QDkF"
      },
      "execution_count": null,
      "outputs": []
    },
    {
      "cell_type": "code",
      "source": [
        "#評価:PCA済みデータ\n",
        "y_pred = clf_rf.predict(X_val)\n",
        "accuracy_score(y_val, y_pred)"
      ],
      "metadata": {
        "id": "gj-kGdkHQPcf"
      },
      "execution_count": null,
      "outputs": []
    },
    {
      "cell_type": "code",
      "source": [
        "#TSNE導入\n",
        "from sklearn.manifold import TSNE"
      ],
      "metadata": {
        "id": "e272PQy2RWSZ"
      },
      "execution_count": null,
      "outputs": []
    },
    {
      "cell_type": "code",
      "source": [
        "#TSNEで次元削減\n",
        "n_components_t = 2\n",
        "tsne_elment = TSNE(n_components = n_components_t)\n",
        "focus_Transformed_t = tsne_elment.fit_transform(df_focus)\n"
      ],
      "metadata": {
        "id": "cokGY8okPkR-"
      },
      "execution_count": null,
      "outputs": []
    },
    {
      "cell_type": "code",
      "source": [
        "#TSNE(DF化)\n",
        "df_tsne = pd.DataFrame(data=focus_Transformed_t, columns=[\"PCA%i\" %i for i in range(n_components_t)])\n",
        "df_subtotal_t = pd.concat([df[\"RI\"].reset_index(drop=True), df_tsne], axis=1)"
      ],
      "metadata": {
        "id": "s9nvR3u8QDHP"
      },
      "execution_count": null,
      "outputs": []
    },
    {
      "cell_type": "code",
      "source": [
        "df_subtotal_t"
      ],
      "metadata": {
        "id": "lyy3b3owbf15"
      },
      "execution_count": null,
      "outputs": []
    },
    {
      "cell_type": "code",
      "source": [
        "#データの分割(TSNE)\n",
        "x_train, x_val, Y_train, Y_val = train_test_split(df_subtotal_t, df[\"Type\"], test_size=0.2)"
      ],
      "metadata": {
        "id": "36smW2IkW8ff"
      },
      "execution_count": null,
      "outputs": []
    },
    {
      "cell_type": "code",
      "source": [
        "#学習:TSNEデータ\n",
        "clf_rf.fit(x_train,Y_train)"
      ],
      "metadata": {
        "id": "o4z90RXLXDUQ"
      },
      "execution_count": null,
      "outputs": []
    },
    {
      "cell_type": "code",
      "source": [
        "#評価:TSNE済みデータ\n",
        "Y_pred = clf_rf.predict(x_val)\n",
        "accuracy_score(Y_val, Y_pred)"
      ],
      "metadata": {
        "id": "su-N8hweXodo"
      },
      "execution_count": null,
      "outputs": []
    },
    {
      "cell_type": "code",
      "source": [
        "#学習用データとおなじく説明変数RIを除く\n",
        "test_focus = test.iloc[:,1:-1]\n",
        "test_focus.head()"
      ],
      "metadata": {
        "id": "N75rjgjFX7Te"
      },
      "execution_count": null,
      "outputs": []
    },
    {
      "cell_type": "code",
      "source": [
        "#TSNEでテストデータを次元削減\n",
        "n_components_ts = 2\n",
        "tsne_elment_t = TSNE(n_components = n_components_ts)\n",
        "test_Transformed_t = tsne_elment_t.fit_transform(test_focus)"
      ],
      "metadata": {
        "id": "pWi7YjSCPkV8"
      },
      "execution_count": null,
      "outputs": []
    },
    {
      "cell_type": "code",
      "source": [
        "#TSNE(DF化):testデータ\n",
        "test_tsne = pd.DataFrame(data=test_Transformed_t, columns=[\"PCA%i\" %i for i in range(n_components_ts)])\n",
        "test_subtotal_t = pd.concat([test[\"RI\"].reset_index(drop=True), test_tsne], axis=1)"
      ],
      "metadata": {
        "id": "cTgBp9EEcCnZ"
      },
      "execution_count": null,
      "outputs": []
    },
    {
      "cell_type": "code",
      "source": [
        "#テストデータで予測する（提出用）\n",
        "pred_ = clf_rf.predict(test_subtotal_t)"
      ],
      "metadata": {
        "id": "5YwxF3W-X7eE"
      },
      "execution_count": null,
      "outputs": []
    },
    {
      "cell_type": "code",
      "source": [
        "#DF形式に変換\n",
        "pred_df = pd.DataFrame(data = pred_)"
      ],
      "metadata": {
        "id": "lZOfJYpqcuho"
      },
      "execution_count": null,
      "outputs": []
    },
    {
      "cell_type": "code",
      "source": [
        "pred_df"
      ],
      "metadata": {
        "id": "LSpcJJrbdFeG"
      },
      "execution_count": null,
      "outputs": []
    },
    {
      "cell_type": "code",
      "source": [
        "#提出用サンプルに予測値をいれる\n",
        "#csvファイルを作成する\n",
        "sample[1] = pred_df\n",
        "sample.to_csv('submit.csv',index = None,header = None)\n",
        "\n",
        "#昨日はここでつまづいたが、予測値をDF化していなかったのが原因か？"
      ],
      "metadata": {
        "id": "G3aKRZsLX7jR"
      },
      "execution_count": null,
      "outputs": []
    },
    {
      "cell_type": "code",
      "source": [],
      "metadata": {
        "id": "Q8MqICO0X7tO"
      },
      "execution_count": null,
      "outputs": []
    },
    {
      "cell_type": "code",
      "source": [
        "focus_Transformed.shape"
      ],
      "metadata": {
        "id": "-Wk_w5l4Pkji"
      },
      "execution_count": null,
      "outputs": []
    },
    {
      "cell_type": "code",
      "source": [
        "focus_Transformed_t.shape"
      ],
      "metadata": {
        "id": "ib1ObKK4QC3N"
      },
      "execution_count": null,
      "outputs": []
    },
    {
      "cell_type": "code",
      "source": [
        "test_Transformed_t.shape"
      ],
      "metadata": {
        "id": "JU3HDhAhQC7T"
      },
      "execution_count": null,
      "outputs": []
    },
    {
      "cell_type": "code",
      "source": [
        "clf_rf = RandomForestClassifier()"
      ],
      "metadata": {
        "id": "mmOg-mORQC__"
      },
      "execution_count": null,
      "outputs": []
    },
    {
      "cell_type": "code",
      "source": [
        "y_pred = clf_rf.predict(X_val)\n",
        "accuracy_score(y_val,y_pred)"
      ],
      "metadata": {
        "id": "aQPCD4YaQPfo"
      },
      "execution_count": null,
      "outputs": []
    },
    {
      "cell_type": "code",
      "source": [
        "pred_ = clf_rf.predict(df_sub_test)"
      ],
      "metadata": {
        "id": "U4myZzNGQPkC"
      },
      "execution_count": null,
      "outputs": []
    },
    {
      "cell_type": "code",
      "source": [
        "pred_s = pca.inverse_transform(pred_)"
      ],
      "metadata": {
        "id": "4NIv9vr9QPmZ"
      },
      "execution_count": null,
      "outputs": []
    },
    {
      "cell_type": "code",
      "source": [
        "sample[1] = pred_\n",
        "  sample.to_csv('submit.csv',index = None,header = None)"
      ],
      "metadata": {
        "id": "ghN1p3wcQPpY"
      },
      "execution_count": null,
      "outputs": []
    },
    {
      "cell_type": "code",
      "source": [],
      "metadata": {
        "id": "_vg0a7xKQPss"
      },
      "execution_count": null,
      "outputs": []
    },
    {
      "cell_type": "code",
      "source": [
        "#TSNE\n",
        "df_test = pd.DataFrame(data=test_Transformed_t, columns=[\"PCA%i\" %i for i in range(n_components_t)])\n",
        "df_sub_test = pd.concat([df[\"RI\"].reset_index(drop=True), df_test], axis=1)"
      ],
      "metadata": {
        "id": "-rn0UB15PkZ8"
      },
      "execution_count": null,
      "outputs": []
    },
    {
      "cell_type": "code",
      "source": [],
      "metadata": {
        "id": "C3Nw26GrQPvp"
      },
      "execution_count": null,
      "outputs": []
    }
  ]
}